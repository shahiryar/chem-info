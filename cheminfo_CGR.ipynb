{
  "nbformat": 4,
  "nbformat_minor": 0,
  "metadata": {
    "colab": {
      "provenance": [],
      "authorship_tag": "ABX9TyNIuz1dKu/TLQvOrbaS6yXG",
      "include_colab_link": true
    },
    "kernelspec": {
      "name": "python3",
      "display_name": "Python 3"
    },
    "language_info": {
      "name": "python"
    }
  },
  "cells": [
    {
      "cell_type": "markdown",
      "metadata": {
        "id": "view-in-github",
        "colab_type": "text"
      },
      "source": [
        "<a href=\"https://colab.research.google.com/github/shahiryar/chem-info/blob/main/cheminfo_CGR.ipynb\" target=\"_parent\"><img src=\"https://colab.research.google.com/assets/colab-badge.svg\" alt=\"Open In Colab\"/></a>"
      ]
    },
    {
      "cell_type": "code",
      "execution_count": 1,
      "metadata": {
        "colab": {
          "base_uri": "https://localhost:8080/"
        },
        "id": "VvbjvuURjG34",
        "outputId": "d92bf629-ba27-4baa-abe4-279198ff6a2c"
      },
      "outputs": [
        {
          "output_type": "stream",
          "name": "stdout",
          "text": [
            "Looking in indexes: https://pypi.org/simple, https://us-python.pkg.dev/colab-wheels/public/simple/\n",
            "Collecting CGRTools\n",
            "  Downloading CGRtools-4.1.35.tar.gz (1.5 MB)\n",
            "\u001b[2K     \u001b[90m━━━━━━━━━━━━━━━━━━━━━━━━━━━━━━━━━━━━━━━━\u001b[0m \u001b[32m1.5/1.5 MB\u001b[0m \u001b[31m18.3 MB/s\u001b[0m eta \u001b[36m0:00:00\u001b[0m\n",
            "\u001b[?25h  Preparing metadata (setup.py) ... \u001b[?25l\u001b[?25hdone\n",
            "Collecting CachedMethods<0.2,>=0.1.4 (from CGRTools)\n",
            "  Downloading CachedMethods-0.1.4-py3-none-any.whl (4.0 kB)\n",
            "Building wheels for collected packages: CGRTools\n",
            "  Building wheel for CGRTools (setup.py) ... \u001b[?25l\u001b[?25hdone\n",
            "  Created wheel for CGRTools: filename=CGRtools-4.1.35-cp310-cp310-linux_x86_64.whl size=1028969 sha256=ca7c231d3823b4abe4d0951d87abfa0ea89d1d289efef00d90a7b6a840122080\n",
            "  Stored in directory: /root/.cache/pip/wheels/e4/07/17/0563d3de1b4ada1288a270f7f514aeadcd30894e6e5986f7fa\n",
            "Successfully built CGRTools\n",
            "Installing collected packages: CachedMethods, CGRTools\n",
            "Successfully installed CGRTools-4.1.35 CachedMethods-0.1.4\n"
          ]
        }
      ],
      "source": [
        "pip install CGRTools"
      ]
    },
    {
      "cell_type": "code",
      "source": [
        "!git clone https://github.com/cimm-kzn/CGRtools.git"
      ],
      "metadata": {
        "colab": {
          "base_uri": "https://localhost:8080/"
        },
        "id": "t1HhCWO6jTF0",
        "outputId": "6b60aaae-0ae0-4cdd-bcde-31587906c5b2"
      },
      "execution_count": 3,
      "outputs": [
        {
          "output_type": "stream",
          "name": "stdout",
          "text": [
            "Cloning into 'CGRtools'...\n",
            "remote: Enumerating objects: 6219, done.\u001b[K\n",
            "remote: Counting objects: 100% (329/329), done.\u001b[K\n",
            "remote: Compressing objects: 100% (174/174), done.\u001b[K\n",
            "remote: Total 6219 (delta 205), reused 256 (delta 153), pack-reused 5890\u001b[K\n",
            "Receiving objects: 100% (6219/6219), 3.67 MiB | 18.61 MiB/s, done.\n",
            "Resolving deltas: 100% (4721/4721), done.\n"
          ]
        }
      ]
    },
    {
      "cell_type": "code",
      "source": [
        "!cd CGRtools"
      ],
      "metadata": {
        "id": "G_J-ZvuVjo4e"
      },
      "execution_count": 4,
      "outputs": []
    },
    {
      "cell_type": "markdown",
      "source": [
        "# Testing Out Data types provided in CGRtools"
      ],
      "metadata": {
        "id": "rZgV7p-pj5Mg"
      }
    },
    {
      "cell_type": "code",
      "source": [
        "import pkg_resources\n",
        "if pkg_resources.get_distribution('CGRtools').version.split('.')[:2] != ['4', '1']:\n",
        "    print('WARNING. Tutorial was tested on 4.1 version of CGRtools')\n",
        "else:\n",
        "    print('Welcome!')"
      ],
      "metadata": {
        "colab": {
          "base_uri": "https://localhost:8080/"
        },
        "id": "X-yYV9C9kBcB",
        "outputId": "05b15daf-1d04-4708-a9f1-3494dd295bce"
      },
      "execution_count": 5,
      "outputs": [
        {
          "output_type": "stream",
          "name": "stdout",
          "text": [
            "Welcome!\n"
          ]
        }
      ]
    },
    {
      "cell_type": "markdown",
      "source": [
        "- Loading moecule data"
      ],
      "metadata": {
        "id": "L1P6X5rRkL_8"
      }
    },
    {
      "cell_type": "code",
      "source": [
        "# load data for tutorial\n",
        "from pickle import load\n",
        "from traceback import format_exc\n",
        "\n",
        "with open('/content/CGRtools/doc/tutorial/molecules.dat', 'rb') as f:\n",
        "    molecules = load(f) # list of MoleculeContainer objects\n",
        "with open('/content/CGRtools/doc/tutorial/reactions.dat', 'rb') as f:\n",
        "    reactions = load(f) # list of ReactionContainer objects\n",
        "\n",
        "m1, m2, m3, m4 = molecules # molecule\n",
        "m7 = m3.copy()\n",
        "m11 = m3.copy()\n",
        "m11.standardize()\n",
        "m7.standardize()\n",
        "r1 = reactions[0] # reaction\n",
        "m5 = r1.reactants[0]\n",
        "m8 = m7.substructure([4, 5, 6, 7, 8, 9])\n",
        "m10 =  r1.products[0].copy()"
      ],
      "metadata": {
        "id": "VPCIE0fKkE4g"
      },
      "execution_count": 6,
      "outputs": []
    },
    {
      "cell_type": "code",
      "source": [
        "m1"
      ],
      "metadata": {
        "colab": {
          "base_uri": "https://localhost:8080/",
          "height": 104
        },
        "id": "TPEpg3i_kfbC",
        "outputId": "6dd0c349-78e2-4182-d07c-1d27aad68aae"
      },
      "execution_count": 7,
      "outputs": [
        {
          "output_type": "execute_result",
          "data": {
            "text/plain": [
              "<CGRtools.containers.molecule.MoleculeContainer at 0x7f6c3481efc0>"
            ],
            "image/svg+xml": "<svg width=\"2.93cm\" height=\"1.66cm\" viewBox=\"-11.44 -0.76 2.93 1.66\" xmlns=\"http://www.w3.org/2000/svg\" version=\"1.1\">\n  <g>\n    <defs>\n      <mask id=\"mask-f93f90f8-464d-4dfd-8545-c9636a08c7a6\">\n        <rect x=\"-11.44\" y=\"-0.76\" width=\"2.93\" height=\"1.66\" fill=\"white\"/>\n        <g fill=\"black\">\n          <circle cx=\"-9.38\" cy=\"-0.14\" r=\"0.20\"/>\n        </g>\n        <g font-family=\"monospace\" stroke=\"black\">\n          <g font-family=\"sans-serif\" font-size=\"0.50\" stroke-width=\"0.05\">\n            <text x=\"-9.38\" y=\"-0.14\" dx=\"-0.20\" dy=\"0.20\">OH</text>\n          </g>\n          <g font-size=\"0.25\" stroke-width=\"0.03\">\n            <text x=\"-10.81\" y=\"-0.14\" dx=\"-0.05\" dy=\"0.20\" text-anchor=\"end\">3</text>\n            <text x=\"-10.10\" y=\"0.28\" dx=\"-0.05\" dy=\"0.20\" text-anchor=\"end\">4</text>\n            <text x=\"-9.38\" y=\"-0.14\" dx=\"-0.15\" dy=\"0.35\" text-anchor=\"end\">1</text>\n          </g>\n          <g font-family=\"monospace\" font-size=\"0.3\" stroke-width=\"0.03\">\n            <text x=\"-9.38\" y=\"-0.14\" dx=\"-0.05\" dy=\"-0.20\" text-anchor=\"end\">15</text>\n          </g>\n        </g>\n      </mask>\n    </defs>\n    <g fill=\"none\" stroke=\"black\" stroke-width=\"0.04\"  mask=\"url(#mask-f93f90f8-464d-4dfd-8545-c9636a08c7a6)\">\n      <line x1=\"-10.78\" y1=\"-0.19\" x2=\"-10.07\" y2=\"0.22\"/>\n      <line x1=\"-10.84\" y1=\"-0.09\" x2=\"-10.13\" y2=\"0.33\"/>\n      <line x1=\"-10.10\" y1=\"0.28\" x2=\"-9.38\" y2=\"-0.14\"/>\n    </g>\n    <g font-family=\"monospace\">\n      <g fill=\"#FF0D0D\" font-family=\"sans-serif\">\n        <text x=\"-9.38\" y=\"-0.14\" dx=\"-0.20\" dy=\"0.20\" font-size=\"0.50\">OH</text>\n      </g>\n      <g font-family=\"monospace\" fill=\"black\" font-size=\"0.30\">\n        <text x=\"-9.38\" y=\"-0.14\" dx=\"-0.05\" dy=\"-0.20\" text-anchor=\"end\">15</text>\n      </g>\n      <g fill=\"#0305A7\" font-size=\"0.25\">\n        <text x=\"-10.81\" y=\"-0.14\" dx=\"-0.05\" dy=\"0.20\" text-anchor=\"end\">3</text>\n        <text x=\"-10.10\" y=\"0.28\" dx=\"-0.05\" dy=\"0.20\" text-anchor=\"end\">4</text>\n        <text x=\"-9.38\" y=\"-0.14\" dx=\"-0.15\" dy=\"0.35\" text-anchor=\"end\">1</text>\n      </g>\n    </g>\n  </g>\n</svg>"
          },
          "metadata": {},
          "execution_count": 7
        }
      ]
    },
    {
      "cell_type": "code",
      "source": [
        "m3"
      ],
      "metadata": {
        "colab": {
          "base_uri": "https://localhost:8080/",
          "height": 209
        },
        "id": "_MLinRW-khru",
        "outputId": "691a81bb-550a-4ee0-eab6-fcb6e036150c"
      },
      "execution_count": 9,
      "outputs": [
        {
          "output_type": "execute_result",
          "data": {
            "text/plain": [
              "<CGRtools.containers.molecule.MoleculeContainer at 0x7f6c3481e520>"
            ],
            "image/svg+xml": "<svg width=\"2.93cm\" height=\"4.96cm\" viewBox=\"1.80 -4.34 2.93 4.96\" xmlns=\"http://www.w3.org/2000/svg\" version=\"1.1\">\n  <g>\n    <defs>\n      <mask id=\"mask-7143d897-ed9f-4587-8ca0-20585846e5cb\">\n        <rect x=\"1.80\" y=\"-4.34\" width=\"2.93\" height=\"4.96\" fill=\"white\"/>\n        <g fill=\"black\">\n          <circle cx=\"3.14\" cy=\"-3.30\" r=\"0.20\"/>\n          <circle cx=\"2.43\" cy=\"-3.71\" r=\"0.20\"/>\n          <circle cx=\"3.86\" cy=\"-3.71\" r=\"0.20\"/>\n          <circle cx=\"3.14\" cy=\"-0.00\" r=\"0.20\"/>\n        </g>\n        <g font-family=\"monospace\" stroke=\"black\">\n          <g font-family=\"sans-serif\" font-size=\"0.50\" stroke-width=\"0.05\">\n            <text x=\"3.14\" y=\"-3.30\" dx=\"-0.20\" dy=\"0.20\">N</text>\n            <text x=\"2.43\" y=\"-3.71\" dx=\"-0.20\" dy=\"0.20\">O</text>\n            <text x=\"3.86\" y=\"-3.71\" dx=\"-0.20\" dy=\"0.20\">O</text>\n            <text x=\"3.14\" y=\"-0.00\" dx=\"-0.20\" dy=\"0.20\">OH</text>\n          </g>\n          <g font-size=\"0.25\" stroke-width=\"0.03\">\n            <text x=\"3.14\" y=\"-2.48\" dx=\"-0.05\" dy=\"0.20\" text-anchor=\"end\">4</text>\n            <text x=\"3.86\" y=\"-2.06\" dx=\"-0.05\" dy=\"0.20\" text-anchor=\"end\">5</text>\n            <text x=\"3.86\" y=\"-1.24\" dx=\"-0.05\" dy=\"0.20\" text-anchor=\"end\">6</text>\n            <text x=\"3.14\" y=\"-0.82\" dx=\"-0.05\" dy=\"0.20\" text-anchor=\"end\">7</text>\n            <text x=\"2.43\" y=\"-1.24\" dx=\"-0.05\" dy=\"0.20\" text-anchor=\"end\">8</text>\n            <text x=\"2.43\" y=\"-2.06\" dx=\"-0.05\" dy=\"0.20\" text-anchor=\"end\">9</text>\n            <text x=\"3.14\" y=\"-3.30\" dx=\"-0.15\" dy=\"0.35\" text-anchor=\"end\">10</text>\n            <text x=\"2.43\" y=\"-3.71\" dx=\"-0.15\" dy=\"0.35\" text-anchor=\"end\">11</text>\n            <text x=\"3.86\" y=\"-3.71\" dx=\"-0.15\" dy=\"0.35\" text-anchor=\"end\">12</text>\n            <text x=\"3.14\" y=\"-0.00\" dx=\"-0.15\" dy=\"0.35\" text-anchor=\"end\">13</text>\n          </g>\n        </g>\n      </mask>\n    </defs>\n    <g fill=\"none\" stroke=\"black\" stroke-width=\"0.04\"  mask=\"url(#mask-7143d897-ed9f-4587-8ca0-20585846e5cb)\">\n      <line x1=\"3.14\" y1=\"-2.48\" x2=\"3.86\" y2=\"-2.06\"/>\n      <line x1=\"3.17\" y1=\"-2.42\" x2=\"2.46\" y2=\"-2.01\"/>\n      <line x1=\"3.11\" y1=\"-2.53\" x2=\"2.40\" y2=\"-2.11\"/>\n      <line x1=\"3.14\" y1=\"-2.48\" x2=\"3.14\" y2=\"-3.30\"/>\n      <line x1=\"3.92\" y1=\"-2.06\" x2=\"3.92\" y2=\"-1.24\"/>\n      <line x1=\"3.80\" y1=\"-2.06\" x2=\"3.80\" y2=\"-1.24\"/>\n      <line x1=\"3.86\" y1=\"-1.24\" x2=\"3.14\" y2=\"-0.82\"/>\n      <line x1=\"3.11\" y1=\"-0.77\" x2=\"2.40\" y2=\"-1.19\"/>\n      <line x1=\"3.17\" y1=\"-0.88\" x2=\"2.46\" y2=\"-1.29\"/>\n      <line x1=\"3.14\" y1=\"-0.82\" x2=\"3.14\" y2=\"-0.00\"/>\n      <line x1=\"2.43\" y1=\"-1.24\" x2=\"2.43\" y2=\"-2.06\"/>\n      <line x1=\"3.11\" y1=\"-3.25\" x2=\"2.40\" y2=\"-3.66\"/>\n      <line x1=\"3.17\" y1=\"-3.35\" x2=\"2.46\" y2=\"-3.76\"/>\n      <line x1=\"3.11\" y1=\"-3.35\" x2=\"3.83\" y2=\"-3.76\"/>\n      <line x1=\"3.17\" y1=\"-3.25\" x2=\"3.89\" y2=\"-3.66\"/>\n    </g>\n    <g font-family=\"monospace\">\n      <g fill=\"#3050F8\" font-family=\"sans-serif\">\n        <text x=\"3.14\" y=\"-3.30\" dx=\"-0.20\" dy=\"0.20\" font-size=\"0.50\">N</text>\n      </g>\n      <g fill=\"#FF0D0D\" font-family=\"sans-serif\">\n        <text x=\"2.43\" y=\"-3.71\" dx=\"-0.20\" dy=\"0.20\" font-size=\"0.50\">O</text>\n      </g>\n      <g fill=\"#FF0D0D\" font-family=\"sans-serif\">\n        <text x=\"3.86\" y=\"-3.71\" dx=\"-0.20\" dy=\"0.20\" font-size=\"0.50\">O</text>\n      </g>\n      <g fill=\"#FF0D0D\" font-family=\"sans-serif\">\n        <text x=\"3.14\" y=\"-0.00\" dx=\"-0.20\" dy=\"0.20\" font-size=\"0.50\">OH</text>\n      </g>\n      <g fill=\"#0305A7\" font-size=\"0.25\">\n        <text x=\"3.14\" y=\"-2.48\" dx=\"-0.05\" dy=\"0.20\" text-anchor=\"end\">4</text>\n        <text x=\"3.86\" y=\"-2.06\" dx=\"-0.05\" dy=\"0.20\" text-anchor=\"end\">5</text>\n        <text x=\"3.86\" y=\"-1.24\" dx=\"-0.05\" dy=\"0.20\" text-anchor=\"end\">6</text>\n        <text x=\"3.14\" y=\"-0.82\" dx=\"-0.05\" dy=\"0.20\" text-anchor=\"end\">7</text>\n        <text x=\"2.43\" y=\"-1.24\" dx=\"-0.05\" dy=\"0.20\" text-anchor=\"end\">8</text>\n        <text x=\"2.43\" y=\"-2.06\" dx=\"-0.05\" dy=\"0.20\" text-anchor=\"end\">9</text>\n        <text x=\"3.14\" y=\"-3.30\" dx=\"-0.15\" dy=\"0.35\" text-anchor=\"end\">10</text>\n        <text x=\"2.43\" y=\"-3.71\" dx=\"-0.15\" dy=\"0.35\" text-anchor=\"end\">11</text>\n        <text x=\"3.86\" y=\"-3.71\" dx=\"-0.15\" dy=\"0.35\" text-anchor=\"end\">12</text>\n        <text x=\"3.14\" y=\"-0.00\" dx=\"-0.15\" dy=\"0.35\" text-anchor=\"end\">13</text>\n      </g>\n    </g>\n  </g>\n</svg>"
          },
          "metadata": {},
          "execution_count": 9
        }
      ]
    },
    {
      "cell_type": "code",
      "source": [
        "m11"
      ],
      "metadata": {
        "colab": {
          "base_uri": "https://localhost:8080/",
          "height": 209
        },
        "id": "S0b9KoS2kkOM",
        "outputId": "66c5a47b-8e55-40b2-f14c-8b2f1b79b91c"
      },
      "execution_count": 10,
      "outputs": [
        {
          "output_type": "execute_result",
          "data": {
            "text/plain": [
              "<CGRtools.containers.molecule.MoleculeContainer at 0x7f6c34834400>"
            ],
            "image/svg+xml": "<svg width=\"2.93cm\" height=\"4.96cm\" viewBox=\"1.80 -4.34 2.93 4.96\" xmlns=\"http://www.w3.org/2000/svg\" version=\"1.1\">\n  <g>\n    <defs>\n      <mask id=\"mask-17aea2b4-157a-43d6-963b-65b86619a777\">\n        <rect x=\"1.80\" y=\"-4.34\" width=\"2.93\" height=\"4.96\" fill=\"white\"/>\n        <g fill=\"black\">\n          <circle cx=\"3.14\" cy=\"-3.30\" r=\"0.20\"/>\n          <circle cx=\"2.43\" cy=\"-3.71\" r=\"0.20\"/>\n          <circle cx=\"3.86\" cy=\"-3.71\" r=\"0.20\"/>\n          <circle cx=\"3.14\" cy=\"-0.00\" r=\"0.20\"/>\n        </g>\n        <g font-family=\"monospace\" stroke=\"black\">\n          <g font-family=\"sans-serif\" font-size=\"0.50\" stroke-width=\"0.05\">\n            <text x=\"3.14\" y=\"-3.30\" dx=\"-0.20\" dy=\"0.20\">N</text>\n            <text x=\"2.43\" y=\"-3.71\" dx=\"-0.20\" dy=\"0.20\">O</text>\n            <text x=\"3.86\" y=\"-3.71\" dx=\"-0.20\" dy=\"0.20\">O</text>\n            <text x=\"3.14\" y=\"-0.00\" dx=\"-0.20\" dy=\"0.20\">OH</text>\n          </g>\n          <g font-size=\"0.25\" stroke-width=\"0.03\">\n            <text x=\"3.14\" y=\"-2.48\" dx=\"-0.05\" dy=\"0.20\" text-anchor=\"end\">4</text>\n            <text x=\"3.86\" y=\"-2.06\" dx=\"-0.05\" dy=\"0.20\" text-anchor=\"end\">5</text>\n            <text x=\"3.86\" y=\"-1.24\" dx=\"-0.05\" dy=\"0.20\" text-anchor=\"end\">6</text>\n            <text x=\"3.14\" y=\"-0.82\" dx=\"-0.05\" dy=\"0.20\" text-anchor=\"end\">7</text>\n            <text x=\"2.43\" y=\"-1.24\" dx=\"-0.05\" dy=\"0.20\" text-anchor=\"end\">8</text>\n            <text x=\"2.43\" y=\"-2.06\" dx=\"-0.05\" dy=\"0.20\" text-anchor=\"end\">9</text>\n            <text x=\"3.14\" y=\"-3.30\" dx=\"-0.15\" dy=\"0.35\" text-anchor=\"end\">10</text>\n            <text x=\"2.43\" y=\"-3.71\" dx=\"-0.15\" dy=\"0.35\" text-anchor=\"end\">11</text>\n            <text x=\"3.86\" y=\"-3.71\" dx=\"-0.15\" dy=\"0.35\" text-anchor=\"end\">12</text>\n            <text x=\"3.14\" y=\"-0.00\" dx=\"-0.15\" dy=\"0.35\" text-anchor=\"end\">13</text>\n          </g>\n          <g font-family=\"monospace\" font-size=\"0.3\" stroke-width=\"0.03\">\n           <text x=\"3.14\" y=\"-3.30\" dx=\"0.05\" dy=\"-0.20\">+</text>\n           <text x=\"3.86\" y=\"-3.71\" dx=\"0.05\" dy=\"-0.20\">-</text>\n          </g>\n        </g>\n      </mask>\n    </defs>\n    <g fill=\"none\" stroke=\"black\" stroke-width=\"0.04\"  mask=\"url(#mask-17aea2b4-157a-43d6-963b-65b86619a777)\">\n      <line x1=\"3.14\" y1=\"-2.48\" x2=\"3.86\" y2=\"-2.06\"/>\n      <line x1=\"3.17\" y1=\"-2.42\" x2=\"2.46\" y2=\"-2.01\"/>\n      <line x1=\"3.11\" y1=\"-2.53\" x2=\"2.40\" y2=\"-2.11\"/>\n      <line x1=\"3.14\" y1=\"-2.48\" x2=\"3.14\" y2=\"-3.30\"/>\n      <line x1=\"3.92\" y1=\"-2.06\" x2=\"3.92\" y2=\"-1.24\"/>\n      <line x1=\"3.80\" y1=\"-2.06\" x2=\"3.80\" y2=\"-1.24\"/>\n      <line x1=\"3.86\" y1=\"-1.24\" x2=\"3.14\" y2=\"-0.82\"/>\n      <line x1=\"3.11\" y1=\"-0.77\" x2=\"2.40\" y2=\"-1.19\"/>\n      <line x1=\"3.17\" y1=\"-0.88\" x2=\"2.46\" y2=\"-1.29\"/>\n      <line x1=\"3.14\" y1=\"-0.82\" x2=\"3.14\" y2=\"-0.00\"/>\n      <line x1=\"2.43\" y1=\"-1.24\" x2=\"2.43\" y2=\"-2.06\"/>\n      <line x1=\"3.11\" y1=\"-3.25\" x2=\"2.40\" y2=\"-3.66\"/>\n      <line x1=\"3.17\" y1=\"-3.35\" x2=\"2.46\" y2=\"-3.76\"/>\n      <line x1=\"3.14\" y1=\"-3.30\" x2=\"3.86\" y2=\"-3.71\"/>\n    </g>\n    <g font-family=\"monospace\">\n      <g fill=\"#3050F8\" font-family=\"sans-serif\">\n        <text x=\"3.14\" y=\"-3.30\" dx=\"-0.20\" dy=\"0.20\" font-size=\"0.50\">N</text>\n      </g>\n      <g fill=\"#FF0D0D\" font-family=\"sans-serif\">\n        <text x=\"2.43\" y=\"-3.71\" dx=\"-0.20\" dy=\"0.20\" font-size=\"0.50\">O</text>\n      </g>\n      <g fill=\"#FF0D0D\" font-family=\"sans-serif\">\n        <text x=\"3.86\" y=\"-3.71\" dx=\"-0.20\" dy=\"0.20\" font-size=\"0.50\">O</text>\n      </g>\n      <g fill=\"#FF0D0D\" font-family=\"sans-serif\">\n        <text x=\"3.14\" y=\"-0.00\" dx=\"-0.20\" dy=\"0.20\" font-size=\"0.50\">OH</text>\n      </g>\n      <g font-family=\"monospace\" fill=\"black\" font-size=\"0.30\">\n        <text x=\"3.14\" y=\"-3.30\" dx=\"0.05\" dy=\"-0.20\">+</text>\n        <text x=\"3.86\" y=\"-3.71\" dx=\"0.05\" dy=\"-0.20\">-</text>\n      </g>\n      <g fill=\"#0305A7\" font-size=\"0.25\">\n        <text x=\"3.14\" y=\"-2.48\" dx=\"-0.05\" dy=\"0.20\" text-anchor=\"end\">4</text>\n        <text x=\"3.86\" y=\"-2.06\" dx=\"-0.05\" dy=\"0.20\" text-anchor=\"end\">5</text>\n        <text x=\"3.86\" y=\"-1.24\" dx=\"-0.05\" dy=\"0.20\" text-anchor=\"end\">6</text>\n        <text x=\"3.14\" y=\"-0.82\" dx=\"-0.05\" dy=\"0.20\" text-anchor=\"end\">7</text>\n        <text x=\"2.43\" y=\"-1.24\" dx=\"-0.05\" dy=\"0.20\" text-anchor=\"end\">8</text>\n        <text x=\"2.43\" y=\"-2.06\" dx=\"-0.05\" dy=\"0.20\" text-anchor=\"end\">9</text>\n        <text x=\"3.14\" y=\"-3.30\" dx=\"-0.15\" dy=\"0.35\" text-anchor=\"end\">10</text>\n        <text x=\"2.43\" y=\"-3.71\" dx=\"-0.15\" dy=\"0.35\" text-anchor=\"end\">11</text>\n        <text x=\"3.86\" y=\"-3.71\" dx=\"-0.15\" dy=\"0.35\" text-anchor=\"end\">12</text>\n        <text x=\"3.14\" y=\"-0.00\" dx=\"-0.15\" dy=\"0.35\" text-anchor=\"end\">13</text>\n      </g>\n    </g>\n  </g>\n</svg>"
          },
          "metadata": {},
          "execution_count": 10
        }
      ]
    },
    {
      "cell_type": "code",
      "source": [
        "m5"
      ],
      "metadata": {
        "colab": {
          "base_uri": "https://localhost:8080/",
          "height": 84
        },
        "id": "gonnqArMkoBH",
        "outputId": "201d49da-bd0e-43a0-a463-5768d57bc92d"
      },
      "execution_count": 11,
      "outputs": [
        {
          "output_type": "execute_result",
          "data": {
            "text/plain": [
              "<CGRtools.containers.molecule.MoleculeContainer at 0x7f6c3481fc40>"
            ],
            "image/svg+xml": "<svg width=\"2.93cm\" height=\"1.66cm\" viewBox=\"-0.62 -1.04 2.93 1.66\" xmlns=\"http://www.w3.org/2000/svg\" version=\"1.1\">\n  <g>\n    <defs>\n      <mask id=\"mask-1e8c88ff-1c5d-4262-b65e-73b604f1d80c\">\n        <rect x=\"-0.62\" y=\"-1.04\" width=\"2.93\" height=\"1.66\" fill=\"white\"/>\n        <g fill=\"black\">\n          <circle cx=\"1.43\" cy=\"-0.41\" r=\"0.20\"/>\n        </g>\n        <g font-family=\"monospace\" stroke=\"black\">\n          <g font-family=\"sans-serif\" font-size=\"0.50\" stroke-width=\"0.05\">\n            <text x=\"1.43\" y=\"-0.41\" dx=\"-0.20\" dy=\"0.20\">OH</text>\n          </g>\n          <g font-size=\"0.25\" stroke-width=\"0.03\">\n            <text x=\"0.00\" y=\"-0.41\" dx=\"-0.05\" dy=\"0.20\" text-anchor=\"end\">3</text>\n            <text x=\"0.71\" y=\"-0.00\" dx=\"-0.05\" dy=\"0.20\" text-anchor=\"end\">4</text>\n            <text x=\"1.43\" y=\"-0.41\" dx=\"-0.15\" dy=\"0.35\" text-anchor=\"end\">1</text>\n          </g>\n        </g>\n      </mask>\n    </defs>\n    <g fill=\"none\" stroke=\"black\" stroke-width=\"0.04\"  mask=\"url(#mask-1e8c88ff-1c5d-4262-b65e-73b604f1d80c)\">\n      <line x1=\"0.00\" y1=\"-0.41\" x2=\"0.71\" y2=\"-0.00\"/>\n      <line x1=\"0.71\" y1=\"-0.00\" x2=\"1.43\" y2=\"-0.41\"/>\n    </g>\n    <g font-family=\"monospace\">\n      <g fill=\"#FF0D0D\" font-family=\"sans-serif\">\n        <text x=\"1.43\" y=\"-0.41\" dx=\"-0.20\" dy=\"0.20\" font-size=\"0.50\">OH</text>\n      </g>\n      <g fill=\"#0305A7\" font-size=\"0.25\">\n        <text x=\"0.00\" y=\"-0.41\" dx=\"-0.05\" dy=\"0.20\" text-anchor=\"end\">3</text>\n        <text x=\"0.71\" y=\"-0.00\" dx=\"-0.05\" dy=\"0.20\" text-anchor=\"end\">4</text>\n        <text x=\"1.43\" y=\"-0.41\" dx=\"-0.15\" dy=\"0.35\" text-anchor=\"end\">1</text>\n      </g>\n    </g>\n  </g>\n</svg>"
          },
          "metadata": {},
          "execution_count": 11
        }
      ]
    }
  ]
}